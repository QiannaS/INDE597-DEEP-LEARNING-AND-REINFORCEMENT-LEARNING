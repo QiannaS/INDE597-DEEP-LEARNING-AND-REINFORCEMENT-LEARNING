{
  "nbformat": 4,
  "nbformat_minor": 0,
  "metadata": {
    "colab": {
      "name": "bandits.ipynb",
      "provenance": []
    },
    "kernelspec": {
      "name": "python3",
      "display_name": "Python 3"
    },
    "language_info": {
      "name": "python"
    }
  },
  "cells": [
    {
      "cell_type": "code",
      "execution_count": 1,
      "metadata": {
        "colab": {
          "base_uri": "https://localhost:8080/",
          "height": 286
        },
        "id": "68yY7DODkoG5",
        "outputId": "a4d9ddb2-5474-4e5c-ecc6-ef866887cd72"
      },
      "outputs": [
        {
          "output_type": "display_data",
          "data": {
            "text/plain": [
              "<Figure size 432x288 with 1 Axes>"
            ],
            "image/png": "[encoded data removed]"
          },
          "metadata": {
            "needs_background": "light"
          }
        }
      ],
      "source": [
        "'This code is only the test version for three method. We roughly code these three methodolgy to compare their results'\n",
        "'This code is only for student to play around, not the completed version' \n",
        "'The basic code is from the website CSDN'\n",
        "import numpy as np\n",
        "import matplotlib.pyplot as plt\n",
        "\n",
        "class E_greedy:\n",
        "    def __init__(self,arm_num=10,epsilon=0.5):\n",
        "        self.arm_num = arm_num\n",
        "        self.epsilon = epsilon\n",
        "        self.arms = np.random.uniform(0, 1, self.arm_num)\n",
        "        self.Q = np.zeros(arm_num)\n",
        "        self.NA = np.zeros(arm_num)\n",
        "        self.T = 100000\n",
        "        self.R = 0\n",
        "        self.R_list = []\n",
        "        self.HAP = np.zeros(arm_num)\n",
        "        self.HA = np.zeros(arm_num)\n",
        "        self.R_ = np.zeros(arm_num)\n",
        "\n",
        "    def reset(self):\n",
        "        self.Q = np.zeros(self.arm_num)\n",
        "        self.NA = np.zeros(self.arm_num)\n",
        "        self.R_list = []\n",
        "        self.R = 0\n",
        "\n",
        "    def get_reward(self,arm_index):\n",
        "        return self.arms[arm_index] + np.random.normal(0, 1)\n",
        "\n",
        "    def update_Q_NA(self,arm_index,reward):\n",
        "        self.NA[arm_index] += 1\n",
        "        self.Q[arm_index] += 1/self.NA[arm_index]*(reward-self.Q[arm_index])\n",
        "\n",
        "    def update_NA(self,arm_index):\n",
        "        self.NA[arm_index] += 1\n",
        "\n",
        "    def e_greedy(self,epsilon=None):\n",
        "        if epsilon:\n",
        "            self.epsilon = epsilon\n",
        "        for iter in range(1,self.T+1):\n",
        "            if np.random.random() > self.epsilon:\n",
        "                if iter == 1:\n",
        "                    arm_index = np.random.randint(0,self.arm_num)\n",
        "                else:\n",
        "                    arm_index = np.argmax(self.Q)\n",
        "            else:\n",
        "                arm_index = np.random.randint(0, self.arm_num)\n",
        "            reward = self.get_reward(arm_index)\n",
        "            self.R += 1/iter*(reward-self.R)\n",
        "            self.R_list.append((iter,self.R))\n",
        "            self.update_Q_NA(arm_index,reward)\n",
        "\n",
        "    def ucb(self,c):\n",
        "        for iter in range(1,self.T+1):\n",
        "            A_list = self.Q + c*(np.sqrt(np.log(iter)/(self.NA+1e-8)))\n",
        "            arm_index = np.argmax(A_list)\n",
        "            reward = self.get_reward(arm_index)\n",
        "            self.R += 1/iter*(reward-self.R)\n",
        "            self.R_list.append((iter,self.R))\n",
        "            self.update_Q_NA(arm_index,reward)\n",
        "\n",
        "    def get_HA(self):\n",
        "        hae = np.array([np.e**x for x in self.HA])\n",
        "        sum = np.sum(hae)\n",
        "        self.HAP = hae/sum\n",
        "\n",
        "    def gradient(self,a):\n",
        "        for iter in range(1,self.T+1):\n",
        "            self.get_HA()\n",
        "            arm_index = np.random.choice(list(range(self.arm_num)),p=self.HAP)\n",
        "            reward = self.get_reward(arm_index)\n",
        "            self.update_NA(arm_index)\n",
        "            self.R_[arm_index] += 1/self.NA[arm_index] * (reward - self.R_[arm_index])\n",
        "            self.R += 1/iter*(reward-self.R)\n",
        "            self.R_list.append((iter,self.R))\n",
        "            ha_temp = self.HA[arm_index] + a*(reward-self.R_[arm_index])*(1-self.HAP[arm_index])\n",
        "            self.HA -= a * (reward - self.R_[arm_index]) * self.HAP\n",
        "            self.HA[arm_index] = ha_temp\n",
        "\n",
        "    def plot_R(self,c):\n",
        "        plt.plot([k[0] for k in self.R_list[100:]], [k[1] for k in self.R_list[100:]], c=c)\n",
        "        plt.plot([k[0] for k in self.R_list[100:]], [np.max(self.arms) for k in self.R_list[100:]],c='r')\n",
        "\n",
        "def main():\n",
        "    e = E_greedy()\n",
        "    e.ucb(2)\n",
        "    e.plot_R(c='g')\n",
        "    e.reset()\n",
        "    e.e_greedy(0.1)\n",
        "    e.plot_R(c='b')\n",
        "    e.reset()\n",
        "    e.gradient(0.25)\n",
        "    e.plot_R(c='k')\n",
        "    plt.show()\n",
        "\n",
        "if __name__ == '__main__':\n",
        "    main()\n",
        "\n"
      ]
    },
    {
      "cell_type": "markdown",
      "source": [
        ""
      ],
      "metadata": {
        "id": "ETJriUH-lCzo"
      }
    }
  ]
}