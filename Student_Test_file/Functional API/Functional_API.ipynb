{
  "nbformat": 4,
  "nbformat_minor": 0,
  "metadata": {
    "colab": {
      "name": "Functional API.ipynb",
      "provenance": []
    },
    "kernelspec": {
      "name": "python3",
      "display_name": "Python 3"
    },
    "language_info": {
      "name": "python"
    }
  },
  "cells": [
    {
      "cell_type": "code",
      "execution_count": 5,
      "metadata": {
        "colab": {
          "base_uri": "https://localhost:8080/"
        },
        "id": "wPgv7cT_XkNd",
        "outputId": "fbbdc008-5ab2-45f1-b75e-2e7140fdae18"
      },
      "outputs": [
        {
          "output_type": "stream",
          "name": "stdout",
          "text": [
            "train_images.shape = (60000, 784)\n",
            "test_images.shape = (10000, 784)\n"
          ]
        }
      ],
      "source": [
        "'This code is using functional api to do Mnist Dataset'\n",
        "'To improve the accuracy on test data, I follow the steps which Dr.Davila did in his notebook'\n",
        "\n",
        "\n",
        "from tensorflow.keras.datasets import fashion_mnist\n",
        "\n",
        "(train_images, train_labels), (test_images, test_labels) = fashion_mnist.load_data()\n",
        "\n",
        "train_images = train_images.reshape((60_000, 28*28))\n",
        "train_images = train_images.astype(\"float32\") / 255 \n",
        "\n",
        "test_images = test_images.reshape((10_000, 28*28))\n",
        "test_images = test_images.astype(\"float32\") / 255\n",
        "\n",
        "print(f\"train_images.shape = {train_images.shape}\")\n",
        "print(f\"test_images.shape = {test_images.shape}\")"
      ]
    },
    {
      "cell_type": "code",
      "source": [
        "# Now import the basic python modules\n",
        "from tensorflow import keras\n",
        "from tensorflow.keras import layers\n",
        "\n",
        "import matplotlib.pyplot as plt\n",
        "import numpy as np"
      ],
      "metadata": {
        "id": "qEds4L2hXnUd"
      },
      "execution_count": 6,
      "outputs": []
    },
    {
      "cell_type": "code",
      "source": [
        "# Get the current input shape of the data\n",
        "\n",
        "input_shape = train_images[0].shape\n",
        "\n",
        "# Define the Function API Model\n",
        "inputs = keras.Input(shape=input_shape, name=\"flattened_input\")\n",
        "features = layers.Dense(512, activation=\"relu\")(inputs)\n",
        "outputs = layers.Dense(10, activation=\"softmax\")(features)\n",
        "model = keras.Model(inputs=inputs, outputs=outputs)\n",
        "\n",
        "model.summary()"
      ],
      "metadata": {
        "colab": {
          "base_uri": "https://localhost:8080/"
        },
        "id": "m2bioObtXndg",
        "outputId": "c3f25286-62f8-45d1-e033-3b04ffd341d4"
      },
      "execution_count": 7,
      "outputs": [
        {
          "output_type": "stream",
          "name": "stdout",
          "text": [
            "Model: \"model_1\"\n",
            "_________________________________________________________________\n",
            " Layer (type)                Output Shape              Param #   \n",
            "=================================================================\n",
            " flattened_input (InputLayer  [(None, 784)]            0         \n",
            " )                                                               \n",
            "                                                                 \n",
            " dense_2 (Dense)             (None, 512)               401920    \n",
            "                                                                 \n",
            " dense_3 (Dense)             (None, 10)                5130      \n",
            "                                                                 \n",
            "=================================================================\n",
            "Total params: 407,050\n",
            "Trainable params: 407,050\n",
            "Non-trainable params: 0\n",
            "_________________________________________________________________\n"
          ]
        }
      ]
    },
    {
      "cell_type": "code",
      "source": [
        "# Compile the Functional API model\n",
        "model.compile(optimizer=\"rmsprop\",\n",
        "               loss=\"sparse_categorical_crossentropy\",\n",
        "               metrics=[\"accuracy\"])\n",
        "\n",
        "# Fit the Functional API model\n",
        "model.fit(train_images, \n",
        "                      train_labels, \n",
        "                      epochs=30, \n",
        "                      batch_size=128)\n",
        "\n",
        "test_loss, test_acc = model.evaluate(test_images, test_labels)\n",
        "print(f\"test_loss = {test_loss}, test_acc = {test_acc}\")"
      ],
      "metadata": {
        "colab": {
          "base_uri": "https://localhost:8080/"
        },
        "id": "y1AliZFeXnmr",
        "outputId": "be445fd5-8279-4dc6-f3cf-d68e666a729e"
      },
      "execution_count": 4,
      "outputs": [
        {
          "output_type": "stream",
          "name": "stdout",
          "text": [
            "Epoch 1/30\n",
            "469/469 [==============================] - 7s 14ms/step - loss: 0.5538 - accuracy: 0.8048\n",
            "Epoch 2/30\n",
            "469/469 [==============================] - 6s 13ms/step - loss: 0.3822 - accuracy: 0.8603\n",
            "Epoch 3/30\n",
            "469/469 [==============================] - 6s 12ms/step - loss: 0.3364 - accuracy: 0.8748\n",
            "Epoch 4/30\n",
            "469/469 [==============================] - 6s 13ms/step - loss: 0.3122 - accuracy: 0.8860\n",
            "Epoch 5/30\n",
            "469/469 [==============================] - 6s 12ms/step - loss: 0.2934 - accuracy: 0.8915\n",
            "Epoch 6/30\n",
            "469/469 [==============================] - 5s 11ms/step - loss: 0.2790 - accuracy: 0.8973\n",
            "Epoch 7/30\n",
            "469/469 [==============================] - 6s 12ms/step - loss: 0.2654 - accuracy: 0.9018\n",
            "Epoch 8/30\n",
            "469/469 [==============================] - 6s 12ms/step - loss: 0.2547 - accuracy: 0.9058\n",
            "Epoch 9/30\n",
            "469/469 [==============================] - 6s 12ms/step - loss: 0.2446 - accuracy: 0.9094\n",
            "Epoch 10/30\n",
            "469/469 [==============================] - 6s 14ms/step - loss: 0.2345 - accuracy: 0.9129\n",
            "Epoch 11/30\n",
            "469/469 [==============================] - 6s 12ms/step - loss: 0.2262 - accuracy: 0.9157\n",
            "Epoch 12/30\n",
            "469/469 [==============================] - 7s 14ms/step - loss: 0.2188 - accuracy: 0.9192\n",
            "Epoch 13/30\n",
            "469/469 [==============================] - 5s 11ms/step - loss: 0.2112 - accuracy: 0.9217\n",
            "Epoch 14/30\n",
            "469/469 [==============================] - 6s 13ms/step - loss: 0.2060 - accuracy: 0.9240\n",
            "Epoch 15/30\n",
            "469/469 [==============================] - 6s 13ms/step - loss: 0.1999 - accuracy: 0.9265\n",
            "Epoch 16/30\n",
            "469/469 [==============================] - 6s 13ms/step - loss: 0.1930 - accuracy: 0.9283\n",
            "Epoch 17/30\n",
            "469/469 [==============================] - 6s 13ms/step - loss: 0.1870 - accuracy: 0.9295\n",
            "Epoch 18/30\n",
            "469/469 [==============================] - 6s 12ms/step - loss: 0.1827 - accuracy: 0.9332\n",
            "Epoch 19/30\n",
            "469/469 [==============================] - 6s 13ms/step - loss: 0.1764 - accuracy: 0.9354\n",
            "Epoch 20/30\n",
            "469/469 [==============================] - 6s 13ms/step - loss: 0.1738 - accuracy: 0.9361\n",
            "Epoch 21/30\n",
            "469/469 [==============================] - 6s 13ms/step - loss: 0.1694 - accuracy: 0.9383\n",
            "Epoch 22/30\n",
            "469/469 [==============================] - 5s 11ms/step - loss: 0.1653 - accuracy: 0.9391\n",
            "Epoch 23/30\n",
            "469/469 [==============================] - 6s 12ms/step - loss: 0.1609 - accuracy: 0.9414\n",
            "Epoch 24/30\n",
            "469/469 [==============================] - 6s 13ms/step - loss: 0.1567 - accuracy: 0.9427\n",
            "Epoch 25/30\n",
            "469/469 [==============================] - 7s 15ms/step - loss: 0.1525 - accuracy: 0.9441\n",
            "Epoch 26/30\n",
            "469/469 [==============================] - 6s 12ms/step - loss: 0.1513 - accuracy: 0.9457\n",
            "Epoch 27/30\n",
            "469/469 [==============================] - 6s 13ms/step - loss: 0.1479 - accuracy: 0.9469\n",
            "Epoch 28/30\n",
            "469/469 [==============================] - 5s 11ms/step - loss: 0.1427 - accuracy: 0.9484\n",
            "Epoch 29/30\n",
            "469/469 [==============================] - 5s 12ms/step - loss: 0.1401 - accuracy: 0.9502\n",
            "Epoch 30/30\n",
            "469/469 [==============================] - 6s 12ms/step - loss: 0.1373 - accuracy: 0.9500\n",
            "313/313 [==============================] - 1s 4ms/step - loss: 0.4695 - accuracy: 0.8886\n",
            "test_loss = 0.46949613094329834, test_acc = 0.8885999917984009\n"
          ]
        }
      ]
    },
    {
      "cell_type": "markdown",
      "source": [
        "We have the accurary of 95% on train data, and 88.6% on test data. It is much lower than the result on train data."
      ],
      "metadata": {
        "id": "z-8MNlwHaLSW"
      }
    },
    {
      "cell_type": "code",
      "source": [
        "'Note that this part of code is from Dr.Davila'\n",
        "#Setting aside a validation set\n",
        "'a deep learning model should never be evaluated on its training data—it’s standard practice to use a validation set to monitor the accuracy of the model during training. '\n",
        "\n",
        "import math\n",
        "val_size = math.floor(60_000*0.08)\n",
        "\n",
        "val_indices = [np.random.randint(0, 60_000) for _ in range(val_size)]\n",
        "\n",
        "partial_images = np.array([train_images[i] for i in range(60_000)\n",
        "                                if i not in val_indices])\n",
        "partial_labels = np.array([train_labels[i] for i in range(60_000)\n",
        "                            if i not in val_indices])\n",
        "\n",
        "val_images = np.array([train_images[i] for i in val_indices])\n",
        "val_labels = np.array([train_labels[i] for i in val_indices])\n",
        "\n",
        "print(f\"partial_images.shape = {partial_images.shape}\")\n",
        "print(f\"val_images.shape = {val_images.shape}\")\n"
      ],
      "metadata": {
        "colab": {
          "base_uri": "https://localhost:8080/"
        },
        "id": "NLwCFWKkbnxm",
        "outputId": "698bf35f-3edf-4095-8f06-b825a818326d"
      },
      "execution_count": 8,
      "outputs": [
        {
          "output_type": "stream",
          "name": "stdout",
          "text": [
            "partial_images.shape = (55385, 784)\n",
            "val_images.shape = (4800, 784)\n"
          ]
        }
      ]
    },
    {
      "cell_type": "code",
      "source": [
        "# Get the current input shape of the data\n",
        "input_shape = train_images[0].shape\n",
        "\n",
        "# Define the Function API Model\n",
        "inputs = keras.Input(shape=input_shape, name=\"my_flattened_input\")\n",
        "features = layers.Dense(512, activation=\"relu\")(inputs)\n",
        "outputs = layers.Dense(10, activation=\"softmax\")(features)\n",
        "model3 = keras.Model(inputs=inputs, outputs=outputs)\n",
        "\n",
        "# Compile the Functional API model\n",
        "model3.compile(optimizer=\"rmsprop\",\n",
        "               loss=\"sparse_categorical_crossentropy\",\n",
        "               metrics=[\"accuracy\"])\n",
        "\n",
        "# Fit the Functional API model (with validation data)\n",
        "history3 = model3.fit(train_images, \n",
        "                      train_labels, \n",
        "                      epochs=30, \n",
        "                      batch_size=128,\n",
        "                      validation_data=[val_images, val_labels])\n",
        "\n",
        "test_loss, test_acc = model3.evaluate(test_images, test_labels)\n",
        "print(f\"test_loss = {test_loss}, test_acc = {test_acc}\")"
      ],
      "metadata": {
        "colab": {
          "base_uri": "https://localhost:8080/"
        },
        "id": "s_w47_7JcVC3",
        "outputId": "bae7c221-49a2-4074-95bb-784ff9f791e5"
      },
      "execution_count": 9,
      "outputs": [
        {
          "output_type": "stream",
          "name": "stdout",
          "text": [
            "Epoch 1/30\n",
            "469/469 [==============================] - 7s 14ms/step - loss: 0.5612 - accuracy: 0.7999 - val_loss: 0.4074 - val_accuracy: 0.8510\n",
            "Epoch 2/30\n",
            "469/469 [==============================] - 6s 13ms/step - loss: 0.3793 - accuracy: 0.8620 - val_loss: 0.3740 - val_accuracy: 0.8552\n",
            "Epoch 3/30\n",
            "469/469 [==============================] - 7s 15ms/step - loss: 0.3363 - accuracy: 0.8757 - val_loss: 0.3147 - val_accuracy: 0.8833\n",
            "Epoch 4/30\n",
            "469/469 [==============================] - 7s 14ms/step - loss: 0.3105 - accuracy: 0.8859 - val_loss: 0.2924 - val_accuracy: 0.8890\n",
            "Epoch 5/30\n",
            "469/469 [==============================] - 7s 15ms/step - loss: 0.2934 - accuracy: 0.8910 - val_loss: 0.2776 - val_accuracy: 0.8954\n",
            "Epoch 6/30\n",
            "469/469 [==============================] - 6s 13ms/step - loss: 0.2770 - accuracy: 0.8980 - val_loss: 0.2861 - val_accuracy: 0.8863\n",
            "Epoch 7/30\n",
            "469/469 [==============================] - 6s 13ms/step - loss: 0.2645 - accuracy: 0.9013 - val_loss: 0.2726 - val_accuracy: 0.8942\n",
            "Epoch 8/30\n",
            "469/469 [==============================] - 6s 13ms/step - loss: 0.2530 - accuracy: 0.9072 - val_loss: 0.2432 - val_accuracy: 0.9079\n",
            "Epoch 9/30\n",
            "469/469 [==============================] - 6s 13ms/step - loss: 0.2419 - accuracy: 0.9104 - val_loss: 0.2470 - val_accuracy: 0.9067\n",
            "Epoch 10/30\n",
            "469/469 [==============================] - 6s 12ms/step - loss: 0.2335 - accuracy: 0.9132 - val_loss: 0.2644 - val_accuracy: 0.8981\n",
            "Epoch 11/30\n",
            "469/469 [==============================] - 6s 13ms/step - loss: 0.2249 - accuracy: 0.9162 - val_loss: 0.2440 - val_accuracy: 0.9096\n",
            "Epoch 12/30\n",
            "469/469 [==============================] - 6s 13ms/step - loss: 0.2193 - accuracy: 0.9182 - val_loss: 0.2138 - val_accuracy: 0.9240\n",
            "Epoch 13/30\n",
            "469/469 [==============================] - 10s 22ms/step - loss: 0.2118 - accuracy: 0.9218 - val_loss: 0.2117 - val_accuracy: 0.9173\n",
            "Epoch 14/30\n",
            "469/469 [==============================] - 9s 19ms/step - loss: 0.2047 - accuracy: 0.9247 - val_loss: 0.2267 - val_accuracy: 0.9131\n",
            "Epoch 15/30\n",
            "469/469 [==============================] - 6s 13ms/step - loss: 0.1975 - accuracy: 0.9274 - val_loss: 0.2048 - val_accuracy: 0.9292\n",
            "Epoch 16/30\n",
            "469/469 [==============================] - 6s 13ms/step - loss: 0.1915 - accuracy: 0.9299 - val_loss: 0.2045 - val_accuracy: 0.9254\n",
            "Epoch 17/30\n",
            "469/469 [==============================] - 6s 13ms/step - loss: 0.1873 - accuracy: 0.9313 - val_loss: 0.2040 - val_accuracy: 0.9285\n",
            "Epoch 18/30\n",
            "469/469 [==============================] - 6s 12ms/step - loss: 0.1827 - accuracy: 0.9323 - val_loss: 0.2187 - val_accuracy: 0.9221\n",
            "Epoch 19/30\n",
            "469/469 [==============================] - 6s 13ms/step - loss: 0.1761 - accuracy: 0.9346 - val_loss: 0.1741 - val_accuracy: 0.9394\n",
            "Epoch 20/30\n",
            "469/469 [==============================] - 6s 13ms/step - loss: 0.1714 - accuracy: 0.9375 - val_loss: 0.1834 - val_accuracy: 0.9321\n",
            "Epoch 21/30\n",
            "469/469 [==============================] - 6s 12ms/step - loss: 0.1665 - accuracy: 0.9391 - val_loss: 0.1606 - val_accuracy: 0.9417\n",
            "Epoch 22/30\n",
            "469/469 [==============================] - 6s 12ms/step - loss: 0.1632 - accuracy: 0.9407 - val_loss: 0.2051 - val_accuracy: 0.9281\n",
            "Epoch 23/30\n",
            "469/469 [==============================] - 6s 12ms/step - loss: 0.1577 - accuracy: 0.9433 - val_loss: 0.1577 - val_accuracy: 0.9404\n",
            "Epoch 24/30\n",
            "469/469 [==============================] - 6s 13ms/step - loss: 0.1531 - accuracy: 0.9441 - val_loss: 0.1595 - val_accuracy: 0.9379\n",
            "Epoch 25/30\n",
            "469/469 [==============================] - 6s 13ms/step - loss: 0.1513 - accuracy: 0.9448 - val_loss: 0.1533 - val_accuracy: 0.9444\n",
            "Epoch 26/30\n",
            "469/469 [==============================] - 6s 13ms/step - loss: 0.1481 - accuracy: 0.9467 - val_loss: 0.1596 - val_accuracy: 0.9450\n",
            "Epoch 27/30\n",
            "469/469 [==============================] - 7s 15ms/step - loss: 0.1444 - accuracy: 0.9482 - val_loss: 0.1962 - val_accuracy: 0.9325\n",
            "Epoch 28/30\n",
            "469/469 [==============================] - 7s 14ms/step - loss: 0.1427 - accuracy: 0.9478 - val_loss: 0.1460 - val_accuracy: 0.9469\n",
            "Epoch 29/30\n",
            "469/469 [==============================] - 6s 13ms/step - loss: 0.1414 - accuracy: 0.9489 - val_loss: 0.1393 - val_accuracy: 0.9467\n",
            "Epoch 30/30\n",
            "469/469 [==============================] - 6s 13ms/step - loss: 0.1331 - accuracy: 0.9512 - val_loss: 0.1685 - val_accuracy: 0.9477\n",
            "313/313 [==============================] - 1s 4ms/step - loss: 0.5117 - accuracy: 0.8833\n",
            "test_loss = 0.5116975903511047, test_acc = 0.8833000063896179\n"
          ]
        }
      ]
    },
    {
      "cell_type": "code",
      "source": [
        "test_accuracy3 = history3.history[\"accuracy\"]\n",
        "val_accuracy3 = history3.history[\"val_accuracy\"]\n",
        "epochs = range(1, 31)\n",
        "\n",
        "\n",
        "\n",
        "\n",
        "\n",
        "plt.figure(figsize=(8,8))\n",
        "plt.plot(epochs, test_accuracy3, label=\"test_accuracy3\")\n",
        "plt.plot(epochs, val_accuracy3, label=\"val_accuracy3\")\n",
        "plt.xticks(epochs)\n",
        "plt.xlabel(\"epochs\")\n",
        "plt.ylabel(\"accuracy\")\n",
        "plt.legend()\n",
        "plt.show()\n"
      ],
      "metadata": {
        "colab": {
          "base_uri": "https://localhost:8080/",
          "height": 518
        },
        "id": "e9C03CobdEeA",
        "outputId": "92afa923-2944-4bbd-bae0-506b51d440a4"
      },
      "execution_count": 10,
      "outputs": [
        {
          "output_type": "display_data",
          "data": {
            "text/plain": [
              "<Figure size 576x576 with 1 Axes>"
            ],
            "image/png": "[encoded data removed]"
          },
          "metadata": {
            "needs_background": "light"
          }
        }
      ]
    },
    {
      "cell_type": "markdown",
      "source": [
        "This image plots the accuracy on test data and validation data."
      ],
      "metadata": {
        "id": "x7LxzQ_lei9T"
      }
    },
    {
      "cell_type": "code",
      "source": [
        "# Fit the Functional API model\n",
        "history3 = model3.fit(train_images, \n",
        "                      train_labels, \n",
        "                      epochs=30, \n",
        "                      batch_size=128,\n",
        "                      validation_data=[val_images, val_labels])\n",
        "\n",
        "test_loss, test_acc = model3.evaluate(test_images, test_labels)\n",
        "print(f\"test_loss = {test_loss}, test_acc = {test_acc}\")"
      ],
      "metadata": {
        "colab": {
          "base_uri": "https://localhost:8080/"
        },
        "id": "bTxQ8AndeDlY",
        "outputId": "c6914dd3-e290-4bf9-e029-b8451ca7b85c"
      },
      "execution_count": 11,
      "outputs": [
        {
          "output_type": "stream",
          "name": "stdout",
          "text": [
            "Epoch 1/30\n",
            "469/469 [==============================] - 8s 16ms/step - loss: 0.1313 - accuracy: 0.9521 - val_loss: 0.1330 - val_accuracy: 0.9488\n",
            "Epoch 2/30\n",
            "469/469 [==============================] - 6s 13ms/step - loss: 0.1302 - accuracy: 0.9535 - val_loss: 0.1379 - val_accuracy: 0.9515\n",
            "Epoch 3/30\n",
            "469/469 [==============================] - 6s 13ms/step - loss: 0.1251 - accuracy: 0.9553 - val_loss: 0.1187 - val_accuracy: 0.9579\n",
            "Epoch 4/30\n",
            "469/469 [==============================] - 6s 13ms/step - loss: 0.1251 - accuracy: 0.9553 - val_loss: 0.1142 - val_accuracy: 0.9610\n",
            "Epoch 5/30\n",
            "469/469 [==============================] - 6s 13ms/step - loss: 0.1235 - accuracy: 0.9564 - val_loss: 0.1177 - val_accuracy: 0.9617\n",
            "Epoch 6/30\n",
            "469/469 [==============================] - 6s 12ms/step - loss: 0.1196 - accuracy: 0.9576 - val_loss: 0.1183 - val_accuracy: 0.9604\n",
            "Epoch 7/30\n",
            "469/469 [==============================] - 6s 12ms/step - loss: 0.1186 - accuracy: 0.9578 - val_loss: 0.1153 - val_accuracy: 0.9575\n",
            "Epoch 8/30\n",
            "469/469 [==============================] - 6s 13ms/step - loss: 0.1151 - accuracy: 0.9591 - val_loss: 0.1345 - val_accuracy: 0.9583\n",
            "Epoch 9/30\n",
            "469/469 [==============================] - 6s 12ms/step - loss: 0.1136 - accuracy: 0.9603 - val_loss: 0.1801 - val_accuracy: 0.9392\n",
            "Epoch 10/30\n",
            "469/469 [==============================] - 6s 13ms/step - loss: 0.1115 - accuracy: 0.9607 - val_loss: 0.1381 - val_accuracy: 0.9513\n",
            "Epoch 11/30\n",
            "469/469 [==============================] - 6s 12ms/step - loss: 0.1098 - accuracy: 0.9629 - val_loss: 0.0968 - val_accuracy: 0.9673\n",
            "Epoch 12/30\n",
            "469/469 [==============================] - 6s 12ms/step - loss: 0.1073 - accuracy: 0.9627 - val_loss: 0.1098 - val_accuracy: 0.9629\n",
            "Epoch 13/30\n",
            "469/469 [==============================] - 6s 12ms/step - loss: 0.1068 - accuracy: 0.9628 - val_loss: 0.1092 - val_accuracy: 0.9625\n",
            "Epoch 14/30\n",
            "469/469 [==============================] - 7s 16ms/step - loss: 0.1037 - accuracy: 0.9638 - val_loss: 0.1561 - val_accuracy: 0.9458\n",
            "Epoch 15/30\n",
            "469/469 [==============================] - 6s 12ms/step - loss: 0.1027 - accuracy: 0.9649 - val_loss: 0.1090 - val_accuracy: 0.9633\n",
            "Epoch 16/30\n",
            "469/469 [==============================] - 6s 12ms/step - loss: 0.1009 - accuracy: 0.9646 - val_loss: 0.1151 - val_accuracy: 0.9610\n",
            "Epoch 17/30\n",
            "469/469 [==============================] - 6s 13ms/step - loss: 0.1008 - accuracy: 0.9655 - val_loss: 0.1050 - val_accuracy: 0.9617\n",
            "Epoch 18/30\n",
            "469/469 [==============================] - 8s 16ms/step - loss: 0.0999 - accuracy: 0.9651 - val_loss: 0.0959 - val_accuracy: 0.9679\n",
            "Epoch 19/30\n",
            "469/469 [==============================] - 7s 15ms/step - loss: 0.0978 - accuracy: 0.9653 - val_loss: 0.0941 - val_accuracy: 0.9648\n",
            "Epoch 20/30\n",
            "469/469 [==============================] - 6s 13ms/step - loss: 0.0931 - accuracy: 0.9671 - val_loss: 0.1097 - val_accuracy: 0.9635\n",
            "Epoch 21/30\n",
            "469/469 [==============================] - 7s 15ms/step - loss: 0.0930 - accuracy: 0.9676 - val_loss: 0.1183 - val_accuracy: 0.9581\n",
            "Epoch 22/30\n",
            "469/469 [==============================] - 7s 14ms/step - loss: 0.0905 - accuracy: 0.9687 - val_loss: 0.0928 - val_accuracy: 0.9652\n",
            "Epoch 23/30\n",
            "469/469 [==============================] - 6s 13ms/step - loss: 0.0936 - accuracy: 0.9685 - val_loss: 0.0796 - val_accuracy: 0.9725\n",
            "Epoch 24/30\n",
            "469/469 [==============================] - 6s 13ms/step - loss: 0.0895 - accuracy: 0.9696 - val_loss: 0.0905 - val_accuracy: 0.9671\n",
            "Epoch 25/30\n",
            "469/469 [==============================] - 6s 12ms/step - loss: 0.0883 - accuracy: 0.9692 - val_loss: 0.0640 - val_accuracy: 0.9765\n",
            "Epoch 26/30\n",
            "469/469 [==============================] - 6s 13ms/step - loss: 0.0838 - accuracy: 0.9716 - val_loss: 0.0916 - val_accuracy: 0.9740\n",
            "Epoch 27/30\n",
            "469/469 [==============================] - 7s 14ms/step - loss: 0.0856 - accuracy: 0.9706 - val_loss: 0.0735 - val_accuracy: 0.9740\n",
            "Epoch 28/30\n",
            "469/469 [==============================] - 6s 13ms/step - loss: 0.0846 - accuracy: 0.9715 - val_loss: 0.0902 - val_accuracy: 0.9712\n",
            "Epoch 29/30\n",
            "469/469 [==============================] - 6s 12ms/step - loss: 0.0812 - accuracy: 0.9718 - val_loss: 0.1232 - val_accuracy: 0.9621\n",
            "Epoch 30/30\n",
            "469/469 [==============================] - 6s 12ms/step - loss: 0.0842 - accuracy: 0.9715 - val_loss: 0.0694 - val_accuracy: 0.9754\n",
            "313/313 [==============================] - 1s 3ms/step - loss: 0.6866 - accuracy: 0.8894\n",
            "test_loss = 0.6866157650947571, test_acc = 0.8894000053405762\n"
          ]
        }
      ]
    }
  ]
}