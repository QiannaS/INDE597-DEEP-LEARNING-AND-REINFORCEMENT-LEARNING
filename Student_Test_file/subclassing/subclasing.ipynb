{
  "nbformat": 4,
  "nbformat_minor": 0,
  "metadata": {
    "colab": {
      "name": "subclasing.ipynb",
      "provenance": [],
      "collapsed_sections": []
    },
    "kernelspec": {
      "name": "python3",
      "display_name": "Python 3"
    },
    "language_info": {
      "name": "python"
    }
  },
  "cells": [
    {
      "cell_type": "code",
      "execution_count": 2,
      "metadata": {
        "id": "fMUDPp8nCmqI"
      },
      "outputs": [],
      "source": [
        "'This code is built following the instruction from a Chinese website \"CSDN\"'\n",
        "'I also did revise some parts of the code'\n",
        "'In this notbook, we use fashion_mnist dataset.'\n",
        "import tensorflow as tf\n",
        "import numpy as np"
      ]
    },
    {
      "cell_type": "code",
      "source": [
        "from sklearn.preprocessing import StandardScaler\n",
        "# Fashio MNIST\n",
        "fashion_mnist = tf.keras.datasets.fashion_mnist\n",
        "(images, targets), (_, _) = fashion_mnist.load_data()\n",
        "# Get only a subpart of the dataset\n",
        "images = images[:10000]\n",
        "targets = targets [:10000]\n",
        "# Reshape the dataset and convert to float\n",
        "images = images.reshape(-1, 784)\n",
        "images = images.astype(float)\n",
        "# Normalize images\n",
        "scaler = StandardScaler()\n",
        "images = scaler.fit_transform(images)"
      ],
      "metadata": {
        "id": "tl1f0eFzDFBk",
        "colab": {
          "base_uri": "https://localhost:8080/"
        },
        "outputId": "fff76cd9-aa12-4a52-99a7-0dc353b8ce26"
      },
      "execution_count": 3,
      "outputs": [
        {
          "output_type": "stream",
          "name": "stdout",
          "text": [
            "Downloading data from https://storage.googleapis.com/tensorflow/tf-keras-datasets/train-labels-idx1-ubyte.gz\n",
            "32768/29515 [=================================] - 0s 0us/step\n",
            "40960/29515 [=========================================] - 0s 0us/step\n",
            "Downloading data from https://storage.googleapis.com/tensorflow/tf-keras-datasets/train-images-idx3-ubyte.gz\n",
            "26427392/26421880 [==============================] - 0s 0us/step\n",
            "26435584/26421880 [==============================] - 0s 0us/step\n",
            "Downloading data from https://storage.googleapis.com/tensorflow/tf-keras-datasets/t10k-labels-idx1-ubyte.gz\n",
            "16384/5148 [===============================================================================================] - 0s 0us/step\n",
            "Downloading data from https://storage.googleapis.com/tensorflow/tf-keras-datasets/t10k-images-idx3-ubyte.gz\n",
            "4423680/4422102 [==============================] - 0s 0us/step\n",
            "4431872/4422102 [==============================] - 0s 0us/step\n"
          ]
        }
      ]
    },
    {
      "cell_type": "code",
      "source": [
        "class CustomModel(tf.keras.Model):\n",
        "    \n",
        "    def __init__(self):\n",
        "        super(CustomModel, self).__init__()\n",
        "\n",
        "        # First in the init method you need to instanciate the layers you will use\n",
        "        self.first_layer = tf.keras.layers.Dense(64)\n",
        "        # WARNING: DO NOT CALL ONE OF YOUR CLASS VARIABLE: output\n",
        "        self.output = tf.keras.layers.Dense(10, activation='softmax', name=\"d1\")\n",
        "\n",
        "    def call(self, x):\n",
        "        # Then in the call method you can execute your operations\n",
        "        layer1_out = self.first_layer(x)\n",
        "        output = self.output_layer(layer1_out)\n",
        "        return output\n",
        "\n",
        "try:\n",
        "    model = CustomModel()\n",
        "except Exception as e:\n",
        "    print(\"e=\", e)"
      ],
      "metadata": {
        "colab": {
          "base_uri": "https://localhost:8080/"
        },
        "id": "HnkH-ig0DOAg",
        "outputId": "843d88ac-06e7-48e5-9ec8-7eb8cfc20dd7"
      },
      "execution_count": 4,
      "outputs": [
        {
          "output_type": "stream",
          "name": "stdout",
          "text": [
            "e= Can't set the attribute \"output\", likely because it conflicts with an existing read-only @property of the object. Please choose a different name.\n"
          ]
        }
      ]
    },
    {
      "cell_type": "code",
      "source": [
        "class CustomModel(tf.keras.Model):\n",
        "    \n",
        "    def __init__(self):\n",
        "        super(CustomModel, self).__init__()        \n",
        "        # First in the init method you need to instanciate the layers you will use\n",
        "        self.first_layer = tf.keras.layers.Dense(64, activation=\"relu\", name=\"first_layer\")\n",
        "        self.output_layer = tf.keras.layers.Dense(10, activation='softmax', name=\"output_layer\")\n",
        "\n",
        "    def call(self, x):\n",
        "        # Then in the call method you can execute your operations\n",
        "        prev = self.first_layer(x)\n",
        "        out = self.output_layer(prev)\n",
        "        return out\n",
        "\n",
        "model = CustomModel()\n",
        "model.predict(images[0:1])"
      ],
      "metadata": {
        "colab": {
          "base_uri": "https://localhost:8080/"
        },
        "id": "9aLLRkchEdZ-",
        "outputId": "fe6d4b38-817c-4681-a2b7-4bc71a6f2b36"
      },
      "execution_count": 5,
      "outputs": [
        {
          "output_type": "execute_result",
          "data": {
            "text/plain": [
              "array([[0.40381026, 0.02978466, 0.18901902, 0.01927068, 0.01279351,\n",
              "        0.00838265, 0.04938316, 0.11382366, 0.09328365, 0.08044879]],\n",
              "      dtype=float32)"
            ]
          },
          "metadata": {},
          "execution_count": 5
        }
      ]
    },
    {
      "cell_type": "code",
      "source": [
        "model.predict(images[0:1])"
      ],
      "metadata": {
        "colab": {
          "base_uri": "https://localhost:8080/"
        },
        "id": "xCykweGMEgTX",
        "outputId": "4ea1fb6a-e106-43aa-a9df-1ba83524a20c"
      },
      "execution_count": 6,
      "outputs": [
        {
          "output_type": "execute_result",
          "data": {
            "text/plain": [
              "array([[0.40381026, 0.02978466, 0.18901902, 0.01927068, 0.01279351,\n",
              "        0.00838265, 0.04938316, 0.11382366, 0.09328365, 0.08044879]],\n",
              "      dtype=float32)"
            ]
          },
          "metadata": {},
          "execution_count": 6
        }
      ]
    },
    {
      "cell_type": "code",
      "source": [
        "# Compile the model\n",
        "model.compile(\n",
        "    loss=\"sparse_categorical_crossentropy\",\n",
        "    optimizer=\"sgd\",\n",
        "    metrics=[\"accuracy\"]\n",
        ")"
      ],
      "metadata": {
        "id": "qraQkrUuEihh"
      },
      "execution_count": 7,
      "outputs": []
    },
    {
      "cell_type": "code",
      "source": [
        "history = model.fit(images, targets, epochs=10)"
      ],
      "metadata": {
        "colab": {
          "base_uri": "https://localhost:8080/"
        },
        "id": "F8qVmVe-ElGJ",
        "outputId": "4e61376e-4903-422a-caa6-59672fd256db"
      },
      "execution_count": 8,
      "outputs": [
        {
          "output_type": "stream",
          "name": "stdout",
          "text": [
            "Epoch 1/10\n",
            "313/313 [==============================] - 1s 2ms/step - loss: 0.8443 - accuracy: 0.7130\n",
            "Epoch 2/10\n",
            "313/313 [==============================] - 1s 2ms/step - loss: 0.5357 - accuracy: 0.8092\n",
            "Epoch 3/10\n",
            "313/313 [==============================] - 1s 2ms/step - loss: 0.4669 - accuracy: 0.8324\n",
            "Epoch 4/10\n",
            "313/313 [==============================] - 1s 2ms/step - loss: 0.4283 - accuracy: 0.8460\n",
            "Epoch 5/10\n",
            "313/313 [==============================] - 1s 2ms/step - loss: 0.4016 - accuracy: 0.8565\n",
            "Epoch 6/10\n",
            "313/313 [==============================] - 1s 2ms/step - loss: 0.3808 - accuracy: 0.8666\n",
            "Epoch 7/10\n",
            "313/313 [==============================] - 1s 2ms/step - loss: 0.3627 - accuracy: 0.8736\n",
            "Epoch 8/10\n",
            "313/313 [==============================] - 1s 2ms/step - loss: 0.3475 - accuracy: 0.8822\n",
            "Epoch 9/10\n",
            "313/313 [==============================] - 1s 2ms/step - loss: 0.3343 - accuracy: 0.8827\n",
            "Epoch 10/10\n",
            "313/313 [==============================] - 1s 2ms/step - loss: 0.3239 - accuracy: 0.8869\n"
          ]
        }
      ]
    }
  ]
}