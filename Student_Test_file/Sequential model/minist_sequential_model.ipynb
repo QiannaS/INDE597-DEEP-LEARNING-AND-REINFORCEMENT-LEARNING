{
  "nbformat": 4,
  "nbformat_minor": 0,
  "metadata": {
    "colab": {
      "name": "minist_sequential model.ipynb",
      "provenance": [],
      "machine_shape": "hm"
    },
    "kernelspec": {
      "name": "python3",
      "display_name": "Python 3"
    },
    "language_info": {
      "name": "python"
    },
    "gpuClass": "standard"
  },
  "cells": [
    {
      "cell_type": "code",
      "execution_count": null,
      "metadata": {
        "id": "k7mR9p-eQ368",
        "colab": {
          "base_uri": "https://localhost:8080/"
        },
        "outputId": "4b24123d-1ebc-4cec-a8b7-c058d13f2fac"
      },
      "outputs": [
        {
          "output_type": "stream",
          "name": "stdout",
          "text": [
            "Downloading data from https://storage.googleapis.com/tensorflow/tf-keras-datasets/mnist.npz\n",
            "11493376/11490434 [==============================] - 0s 0us/step\n",
            "11501568/11490434 [==============================] - 0s 0us/step\n"
          ]
        }
      ],
      "source": [
        "'This sequential mode is built, followed by the guide of the textbook \"Deep learning with python - Chinese version \"\n",
        "'train_images and train_labels form the training set, the data that the model will learn from. '\n",
        "'The model will then be tested on the test set, test_images and test_labels.'\n",
        "#Loading the MNIST dataset in Keras\n",
        "from keras.datasets import mnist\n",
        "\n",
        "(train_images, train_labels), (test_images, test_labels) = mnist.load_data()\n"
      ]
    },
    {
      "cell_type": "code",
      "source": [
        "#Get the shape of train image\n",
        "print(train_images.shape)"
      ],
      "metadata": {
        "colab": {
          "base_uri": "https://localhost:8080/"
        },
        "id": "mFNGArWlSnGx",
        "outputId": "00c75fe4-b980-42db-c55c-a30303b493a8"
      },
      "execution_count": null,
      "outputs": [
        {
          "output_type": "stream",
          "name": "stdout",
          "text": [
            "(60000, 28, 28)\n"
          ]
        }
      ]
    },
    {
      "cell_type": "code",
      "source": [
        "#import the basic python modules\n",
        "#building the network architecture\n",
        "\n",
        "'Our model consists of a sequence of two Dense layers, which are densely con- nected (also called fully connected) neural layers.'\n",
        "'The second (and last) layer is a 10-way softmax classification layer, which means it will return an array of 10 probability scores (summing to 1).'\n",
        "'Each score will be the probability that the current digit image belongs to one of our 10 digit classes.from keras import models'\n",
        "from keras import layers\n",
        "network = models.Sequential()\n",
        "network.add(layers.Dense(512, activation='relu', input_shape=(28 * 28,))) \n",
        "network.add(layers.Dense(10, activation='softmax'))\n"
      ],
      "metadata": {
        "id": "U5axc3FJRNRE"
      },
      "execution_count": null,
      "outputs": []
    },
    {
      "cell_type": "code",
      "source": [
        "#the compile step\n",
        "'Before training, we’ll preprocess the data by reshaping it into the shape the model expects and scaling it so that all values are in the [0, 1] interval. '\n",
        "network.compile(optimizer='rmsprop', loss='categorical_crossentropy',\n",
        "metrics=['accuracy'])\n"
      ],
      "metadata": {
        "id": "bg8UeLPrRc1e"
      },
      "execution_count": null,
      "outputs": []
    },
    {
      "cell_type": "code",
      "source": [
        "#Preparing the image data\n",
        "\n",
        "train_images = train_images.reshape((60000, 28 * 28))\n",
        "train_images = train_images.astype('float32') / 255\n",
        "\n",
        "test_images = test_images.reshape((10000, 28 * 28))\n",
        "test_images = test_images.astype('float32') / 255\n",
        "\n"
      ],
      "metadata": {
        "id": "yzeF5VHeRgOh"
      },
      "execution_count": null,
      "outputs": []
    },
    {
      "cell_type": "code",
      "source": [
        "from tensorflow.keras.utils import to_categorical\n",
        "\n",
        "train_labels = to_categorical(train_labels)\n",
        "test_labels = to_categorical(test_labels)"
      ],
      "metadata": {
        "id": "KXN0vz9zS9C_"
      },
      "execution_count": null,
      "outputs": []
    },
    {
      "cell_type": "code",
      "source": [
        "#fitting the model\n",
        "'We have an accuracy of 0.9884  on the training data.'\n",
        "network.fit(train_images, train_labels, epochs=5, batch_size=128)"
      ],
      "metadata": {
        "colab": {
          "base_uri": "https://localhost:8080/"
        },
        "id": "10JLcYv7Y_LV",
        "outputId": "7bde9a8e-2e00-4cd1-d14a-d2d1cea7b2c0"
      },
      "execution_count": null,
      "outputs": [
        {
          "output_type": "stream",
          "name": "stdout",
          "text": [
            "Epoch 1/5\n",
            "469/469 [==============================] - 4s 7ms/step - loss: 0.2545 - accuracy: 0.9275\n",
            "Epoch 2/5\n",
            "469/469 [==============================] - 3s 7ms/step - loss: 0.1028 - accuracy: 0.9695\n",
            "Epoch 3/5\n",
            "469/469 [==============================] - 4s 8ms/step - loss: 0.0667 - accuracy: 0.9800\n",
            "Epoch 4/5\n",
            "469/469 [==============================] - 3s 7ms/step - loss: 0.0489 - accuracy: 0.9849\n",
            "Epoch 5/5\n",
            "469/469 [==============================] - 3s 7ms/step - loss: 0.0377 - accuracy: 0.9884\n"
          ]
        },
        {
          "output_type": "execute_result",
          "data": {
            "text/plain": [
              "<keras.callbacks.History at 0x7f51e5b43b90>"
            ]
          },
          "metadata": {},
          "execution_count": 10
        }
      ]
    },
    {
      "cell_type": "code",
      "source": [
        "#evaluating the model on test data\n",
        "'we have an accuracy of 0.9802 on test data, lower than the result on train data'\n",
        "test_loss, test_acc = network.evaluate(test_images, test_labels)\n",
        "print(\"test_acc:\", test_acc)"
      ],
      "metadata": {
        "colab": {
          "base_uri": "https://localhost:8080/"
        },
        "id": "T_HIKEi_ZEUt",
        "outputId": "6b89246e-125c-49d9-bd3f-22ff81993e0b"
      },
      "execution_count": null,
      "outputs": [
        {
          "output_type": "stream",
          "name": "stdout",
          "text": [
            "313/313 [==============================] - 1s 2ms/step - loss: 0.0646 - accuracy: 0.9802\n",
            "test_acc: 0.9801999926567078\n"
          ]
        }
      ]
    },
    {
      "cell_type": "markdown",
      "source": [
        "This gap between training accuracy and test accuracy is an example of overfitting: the fact that machine learning models tend to perform worse on new data than on their training data"
      ],
      "metadata": {
        "id": "sEPtOEOfLcIK"
      }
    }
  ]
}